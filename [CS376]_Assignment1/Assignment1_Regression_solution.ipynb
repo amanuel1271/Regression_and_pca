{
  "nbformat": 4,
  "nbformat_minor": 0,
  "metadata": {
    "colab": {
      "name": "Assignment1_regression_solution_revised.ipynb",
      "provenance": [],
      "collapsed_sections": []
    },
    "kernelspec": {
      "name": "python3",
      "display_name": "Python 3"
    },
    "language_info": {
      "name": "python"
    }
  },
  "cells": [
    {
      "cell_type": "markdown",
      "metadata": {
        "id": "V8eaHVarpFii"
      },
      "source": [
        "**[Step 0]** \n",
        "\n",
        "Setup"
      ]
    },
    {
      "cell_type": "code",
      "metadata": {
        "id": "wFGF2tW9pKZJ"
      },
      "source": [
        "import numpy as np\n",
        "import pandas as pd\n",
        "import matplotlib.pyplot as plt\n",
        "from sklearn.model_selection import train_test_split\n",
        "from sklearn.decomposition import PCA\n",
        "from google.colab import drive"
      ],
      "execution_count": null,
      "outputs": []
    },
    {
      "cell_type": "code",
      "metadata": {
        "colab": {
          "base_uri": "https://localhost:8080/"
        },
        "id": "u22if-dh6lSs",
        "outputId": "33c76554-de33-4c56-b6e0-e0907a3c8e29"
      },
      "source": [
        "# Mount google drive\n",
        "google_drive_path = '/content/gdrive/'\n",
        "drive.mount('/content/gdrive/')"
      ],
      "execution_count": null,
      "outputs": [
        {
          "output_type": "stream",
          "name": "stdout",
          "text": [
            "Mounted at /content/gdrive/\n"
          ]
        }
      ]
    },
    {
      "cell_type": "code",
      "metadata": {
        "id": "tqfCCR8E7wE-",
        "colab": {
          "base_uri": "https://localhost:8080/"
        },
        "outputId": "65671628-7de5-455a-bfe9-5e4ac5ced24d"
      },
      "source": [
        "# Load dataset\n",
        "dataset_path = google_drive_path + 'MyDrive/[CS376]_Assignment1/data.csv'\n",
        "df = pd.read_csv(dataset_path, sep='|')\n",
        "print(df.head(5))\n",
        "\n",
        "# Split dataset\n",
        "X = df.iloc[:, :-1].values\n",
        "Y = df.iloc[:, -1].values # column 'Target'\n",
        "X_train, X_test, Y_train, Y_test = train_test_split( X, Y, test_size=0.3, random_state=35 )\n",
        "print(X_train.shape, X_test.shape, Y_train.shape, Y_test.shape)"
      ],
      "execution_count": null,
      "outputs": [
        {
          "output_type": "stream",
          "name": "stdout",
          "text": [
            "          0    1         2    3  ...       101       102       103    Target\n",
            "0  0.002399  0.0  0.236437  0.0  ...  1.000000  0.399283  0.159427  0.646667\n",
            "1  0.000301  0.0  0.173387  0.0  ...  0.996171  0.186728  0.035001  0.686667\n",
            "2  0.058396  0.0  0.646628  1.0  ...  0.992600  0.268042  0.072382  0.756667\n",
            "3  0.002782  0.0  0.236437  0.0  ...  1.000000  0.802428  0.643891  0.480000\n",
            "4  0.032794  0.0  0.700880  0.0  ...  0.365748  0.134839  0.049710  0.833333\n",
            "\n",
            "[5 rows x 105 columns]\n",
            "(354, 104) (152, 104) (354,) (152,)\n"
          ]
        }
      ]
    },
    {
      "cell_type": "markdown",
      "metadata": {
        "id": "aXcXFrBNq_BY"
      },
      "source": [
        "**[Step 1]**\n",
        "\n",
        "Implement the ridge regression model"
      ]
    },
    {
      "cell_type": "code",
      "metadata": {
        "id": "1UD2P-sBqhry"
      },
      "source": [
        "class RidgeRegression():\n",
        "  def __init__(self, regularization_factor):\n",
        "    # When regularization_factor (or lambda) is equal to 0, the model becomes a linear model\n",
        "    self.regularization_factor = regularization_factor\n",
        "  \n",
        "  # Function for training\n",
        "  def fit(self, X, Y, epochs, learning_rate, batch_size):\n",
        "    num_examples, num_features = X.shape\n",
        "    \n",
        "    # Init weights and biases\n",
        "    self.W = np.random.rand( num_features )\n",
        "    self.b = 0\n",
        "\n",
        "    # List for recording losses during training\n",
        "    self.train_loss = []\n",
        "    \n",
        "    # Variable that supports training with Mini-batch or Stochastic Gradient Descent \n",
        "    # If batch_size is equal to the number of examples, the model is trained with Full-batch Gradient Descent\n",
        "    num_iterations_per_epoch = int( num_examples / batch_size )\n",
        "\n",
        "    for ep in range( epochs ):\n",
        "      # Shuffle for Mini-batch or Stochastic Gradient Descent \n",
        "      if num_iterations_per_epoch != 1:\n",
        "        df_tmp = pd.concat( [pd.DataFrame(X), pd.DataFrame(Y) ], axis=1 ).sample( frac=1 )\n",
        "        X = df_tmp.iloc[:, :-1].values\n",
        "        Y = df_tmp.iloc[:, -1].values\n",
        "      \n",
        "      # Start training\n",
        "      for i in range( num_iterations_per_epoch ):\n",
        "        X_batch = X[ batch_size*i : batch_size * (i+1) ]\n",
        "        Y_batch = Y[ batch_size*i : batch_size * (i+1) ]\n",
        "\n",
        "        # Get gradients\n",
        "        dW, db = self.calculate_gradient(X_batch, Y_batch)\n",
        "\n",
        "        # Update weights and bias\n",
        "        self.W = self.W - learning_rate * dW\n",
        "        self.b = self.b - learning_rate * db\n",
        "\n",
        "      # Record the loss per epoch\n",
        "      loss = self.calculate_loss(X, Y)\n",
        "      self.train_loss.append(loss)\n",
        "\n",
        "    return self\n",
        "\n",
        "  # Function for prediction\n",
        "  def predict(self, X):\n",
        "    return X.dot( self.W ) + self.b\n",
        "\n",
        "  # Function for calculating the gradient\n",
        "  # Objective function: PPT\n",
        "  def calculate_gradient(self, X, Y):\n",
        "    num_examples = X.shape[0]\n",
        "    # Get predictions\n",
        "    Y_pred = self.predict(X)\n",
        "    # Calculate gradients\n",
        "    regularization_term = 2 * ( self.regularization_factor * self.W )\n",
        "    dW = - ( ( X.T ).dot( Y - Y_pred ) ) / num_examples + regularization_term\n",
        "    db = - np.sum( Y - Y_pred ) / num_examples\n",
        "    return dW, db\n",
        "\n",
        "  # Function for calculating the loss\n",
        "  # Objective function: PPT\n",
        "  def calculate_loss(self, X, Y):\n",
        "    num_examples = X.shape[0]\n",
        "    # Get predictions\n",
        "    Y_pred = self.predict(X)\n",
        "    # Calculate loss\n",
        "    regularization_term = self.regularization_factor * np.sum( np.square( self.W ) )\n",
        "    loss = np.sum( np.square ( Y - Y_pred ) ) / ( 2 * num_examples ) + regularization_term\n",
        "    return loss\n",
        "\n",
        "  # Function for evaluation\n",
        "  # Metric: Root Mean Square Error (RMSE)\n",
        "  def eval(self, X, Y):\n",
        "    num_examples = X.shape[0]\n",
        "    # Get predictions\n",
        "    Y_pred = self.predict(X)\n",
        "    # Calcuate RMSE\n",
        "    RMSE = np.sqrt( np.sum( np.square( Y_pred - Y ) ) / num_examples )\n",
        "    return RMSE"
      ],
      "execution_count": null,
      "outputs": []
    },
    {
      "cell_type": "markdown",
      "metadata": {
        "id": "pxNGbFaQ1wCW"
      },
      "source": [
        "[Step 2]\n",
        "\n",
        "Train a model on the given dataset, and evaluate the model"
      ]
    },
    {
      "cell_type": "code",
      "metadata": {
        "colab": {
          "base_uri": "https://localhost:8080/",
          "height": 298
        },
        "id": "Oc7H6fe21vsS",
        "outputId": "dd514853-098a-48d9-8a33-d924cdc7db4b"
      },
      "source": [
        "# Init\n",
        "regularization_factor = 0.1\n",
        "ridge_model = RidgeRegression( regularization_factor )\n",
        "\n",
        "# Train \n",
        "epochs = 2000\n",
        "learning_rate = 0.01\n",
        "batch_size = X_train.shape[0] # Full-batch\n",
        "ridge_model.fit( X_train, Y_train, epochs, learning_rate, batch_size )\n",
        "\n",
        "# Plot loss graph\n",
        "loss = ridge_model.train_loss\n",
        "x_axis = np.arange(0, len(loss))\n",
        "plt.plot(x_axis, loss, label='Ridge')\n",
        "plt.xlabel('Epoch')\n",
        "plt.ylabel('Loss')\n",
        "plt.show()\n",
        "\n",
        "# Evaluate\n",
        "print(\"Root Mean Square Error (Test): \", ridge_model.eval( X_test, Y_test ))"
      ],
      "execution_count": null,
      "outputs": [
        {
          "output_type": "display_data",
          "data": {
            "image/png": "[encoded data removed]",
            "text/plain": [
              "<Figure size 432x288 with 1 Axes>"
            ]
          },
          "metadata": {
            "needs_background": "light"
          }
        },
        {
          "output_type": "stream",
          "name": "stdout",
          "text": [
            "Root Mean Square Error (Test):  0.22607383361488978\n"
          ]
        }
      ]
    },
    {
      "cell_type": "markdown",
      "metadata": {
        "id": "qyfMktW1ZvqT"
      },
      "source": [
        "**[Step 3]**\n",
        "\n",
        "Train 3 models with different gradient descent methods, and compare their loss graphs: (full) Batch, Mini-Batch, Stochastic"
      ]
    },
    {
      "cell_type": "code",
      "metadata": {
        "colab": {
          "base_uri": "https://localhost:8080/",
          "height": 302
        },
        "id": "YmRYMPDGZ9ur",
        "outputId": "d1e35b00-6b81-49e9-9c8f-8574acb8d89c"
      },
      "source": [
        "# Init\n",
        "regularization_factor = 0.1\n",
        "ridge_model_full = RidgeRegression( regularization_factor )\n",
        "ridge_model_16 = RidgeRegression( regularization_factor )\n",
        "ridge_model_1 = RidgeRegression( regularization_factor )\n",
        "\n",
        "# Train \n",
        "epochs = 2000\n",
        "learning_rate = 0.01\n",
        "\n",
        "ridge_model_full = ridge_model # Trained model in step 2\n",
        "\n",
        "batch_size = 16\n",
        "ridge_model_16.fit( X_train, Y_train, epochs, learning_rate, batch_size )\n",
        "\n",
        "batch_size = 1\n",
        "ridge_model_1.fit( X_train, Y_train, epochs, learning_rate, batch_size )\n",
        "\n",
        "# Plot loss graph\n",
        "loss_full, loss_16, loss_1 = ridge_model_full.train_loss, ridge_model_16.train_loss, ridge_model_1.train_loss\n",
        "x_axis = np.arange(0, len(loss_full))\n",
        "plt.plot(x_axis, loss_full, label='Batch size = Full')\n",
        "plt.plot(x_axis, loss_16, label='Batch size = 16')\n",
        "plt.plot(x_axis, loss_1, label='Batch size = 1')\n",
        "plt.xlabel('Epoch')\n",
        "plt.ylabel('Loss')\n",
        "plt.ylim(0,1)\n",
        "plt.legend()\n",
        "plt.show()\n",
        "\n",
        "# Evaluate\n",
        "ridge_model_full.eval( X_test, Y_test ), ridge_model_16.eval( X_test, Y_test ), ridge_model_1.eval( X_test, Y_test )"
      ],
      "execution_count": null,
      "outputs": [
        {
          "output_type": "display_data",
          "data": {
            "image/png": "[encoded data removed]",
            "text/plain": [
              "<Figure size 432x288 with 1 Axes>"
            ]
          },
          "metadata": {
            "needs_background": "light"
          }
        },
        {
          "output_type": "execute_result",
          "data": {
            "text/plain": [
              "(0.22607383361488978, 0.2147921585242702, 0.22218498088575542)"
            ]
          },
          "metadata": {},
          "execution_count": 12
        }
      ]
    },
    {
      "cell_type": "markdown",
      "metadata": {
        "id": "iyGapUl2-BRa"
      },
      "source": [
        "**[Step 4]**\n",
        "\n",
        "Train 4 models with different regularization factors, and compare the distributions of weights: 10, 1, 0.1, 0"
      ]
    },
    {
      "cell_type": "code",
      "metadata": {
        "colab": {
          "base_uri": "https://localhost:8080/"
        },
        "id": "l-V9c7Ex8DXs",
        "outputId": "15847555-a7c1-435f-e8a1-d09ab1e96b25"
      },
      "source": [
        "# Init\n",
        "ridge_model_rf10 = RidgeRegression( regularization_factor = 10 )\n",
        "ridge_model_rf1 = RidgeRegression( regularization_factor = 1 )\n",
        "ridge_model_rf01 = RidgeRegression( regularization_factor = 0.1 )\n",
        "ridge_model_rf0 = RidgeRegression( regularization_factor = 0 ) # Linear model\n",
        "\n",
        "# Train\n",
        "batch_size = X_train.shape[0] # Full-batch\n",
        "ridge_model_rf10.fit( X_train, Y_train, epochs, learning_rate, batch_size )\n",
        "ridge_model_rf1.fit( X_train, Y_train, epochs, learning_rate, batch_size )\n",
        "ridge_model_rf01.fit( X_train, Y_train, epochs, learning_rate, batch_size )\n",
        "ridge_model_rf0.fit( X_train, Y_train, epochs, learning_rate, batch_size )"
      ],
      "execution_count": null,
      "outputs": [
        {
          "output_type": "execute_result",
          "data": {
            "text/plain": [
              "<__main__.RidgeRegression at 0x7f3f4bba8a50>"
            ]
          },
          "metadata": {},
          "execution_count": 13
        }
      ]
    },
    {
      "cell_type": "code",
      "metadata": {
        "colab": {
          "base_uri": "https://localhost:8080/",
          "height": 615
        },
        "id": "0fmVaZoSApOk",
        "outputId": "a1fffb9e-aa6c-44dd-b23a-7e9ef9cbc75b"
      },
      "source": [
        "# Visualize\n",
        "num_features = X_train.shape[1]\n",
        "x_axis = np.arange(0, num_features)\n",
        "plt.figure(figsize=(10,10))\n",
        "\n",
        "# Regularization factor = 10\n",
        "plt.subplot(2, 2, 1)\n",
        "plt.hlines(0,x_axis[0], x_axis[-1], color='gray', linewidth = 2)\n",
        "plt.scatter(x_axis, ridge_model_rf10.W, s=10, label = 'RF = 10')\n",
        "plt.ylim(-1,1)\n",
        "plt.legend()\n",
        "\n",
        "# Regularization factor = 1\n",
        "plt.subplot(2, 2, 2)\n",
        "plt.hlines(0,x_axis[0], x_axis[-1], color='gray', linewidth = 2)\n",
        "plt.scatter(x_axis, ridge_model_rf1.W, s=10, label = 'RF = 1')\n",
        "plt.ylim(-1,1)\n",
        "plt.legend()\n",
        "\n",
        "# Regularization factor = 0.1\n",
        "plt.subplot(2, 2, 3)\n",
        "plt.hlines(0,x_axis[0], x_axis[-1], color='gray', linewidth = 2)\n",
        "plt.scatter(x_axis, ridge_model_rf01.W, s=10, label = 'RF = 0.1')\n",
        "plt.ylim(-1,1)\n",
        "plt.legend()\n",
        "\n",
        "# Regularization factor = 0 (Linear model)\n",
        "plt.subplot(2, 2, 4)\n",
        "plt.hlines(0,x_axis[0], x_axis[-1], color='gray', linewidth = 2)\n",
        "plt.scatter(x_axis, ridge_model_rf0.W, s=10, label = 'RF = 0')\n",
        "plt.ylim(-1,1)\n",
        "plt.legend()"
      ],
      "execution_count": null,
      "outputs": [
        {
          "output_type": "execute_result",
          "data": {
            "text/plain": [
              "<matplotlib.legend.Legend at 0x7f3f4bb4ae90>"
            ]
          },
          "metadata": {},
          "execution_count": 14
        },
        {
          "output_type": "display_data",
          "data": {
            "image/png": "[encoded data removed]",
            "text/plain": [
              "<Figure size 720x720 with 4 Axes>"
            ]
          },
          "metadata": {
            "needs_background": "light"
          }
        }
      ]
    },
    {
      "cell_type": "code",
      "metadata": {
        "colab": {
          "base_uri": "https://localhost:8080/"
        },
        "id": "XfwJJAcCFno7",
        "outputId": "99c5a6ea-6261-4de0-e0f5-b289b007b260"
      },
      "source": [
        "# Evaluate\n",
        "print(\"RF 10 : \", ridge_model_rf10.eval( X_test, Y_test ))\n",
        "print(\"RF 1 : \", ridge_model_rf1.eval( X_test, Y_test ))\n",
        "print(\"RF 0.1 : \", ridge_model_rf01.eval( X_test, Y_test ))\n",
        "print(\"RF 0 (Linear): \", ridge_model_rf0.eval( X_test, Y_test ))"
      ],
      "execution_count": null,
      "outputs": [
        {
          "output_type": "stream",
          "name": "stdout",
          "text": [
            "RF 10 :  0.32785687211659154\n",
            "RF 1 :  0.2863526682551781\n",
            "RF 0.1 :  0.22782633648849757\n",
            "RF 0 (Linear):  0.3036531934278245\n"
          ]
        }
      ]
    },
    {
      "cell_type": "markdown",
      "metadata": {
        "id": "qIqcnPwThOjI"
      },
      "source": [
        "**[Step 5]**\n",
        "\n",
        "Use PCA to reduce the number of features in the dataset, and show that reducing the complexity of the models can lead to improved performance"
      ]
    },
    {
      "cell_type": "code",
      "metadata": {
        "id": "T6lQBqchXJIH",
        "colab": {
          "base_uri": "https://localhost:8080/"
        },
        "outputId": "a10a03f0-59c6-4bc8-e93f-0c924297870e"
      },
      "source": [
        "# Calculate the cumulative explained variances\n",
        "X = df.iloc[:, :-1].values\n",
        "pca_test = PCA(n_components = X.shape[1])\n",
        "pca_test.fit(X)\n",
        "print(\"Eigen values: \", pca_test.explained_variance_)\n",
        "print(\"Cumulative explained variances:\")\n",
        "for i in range(1, len(pca_test.explained_variance_) + 1):\n",
        "  print(\"# PCs = {}: {}\".format(i, round(sum(pca_test.explained_variance_ratio_[:i]), 2)))"
      ],
      "execution_count": null,
      "outputs": [
        {
          "output_type": "stream",
          "name": "stdout",
          "text": [
            "Eigen values:  [2.22589226e+00 4.40515177e-01 3.21192200e-01 2.72663946e-01\n",
            " 1.78300259e-01 1.35610191e-01 1.07982230e-01 9.65186630e-02\n",
            " 5.44386765e-02 4.18622255e-02 3.31410169e-02 3.06269904e-02\n",
            " 2.81723096e-02 1.57294115e-02 1.03481136e-02 8.91624547e-03\n",
            " 6.60703122e-03 6.00619478e-03 5.86515506e-03 4.60443557e-03\n",
            " 4.31885093e-03 3.76523348e-03 3.43443195e-03 3.25843029e-03\n",
            " 2.65951861e-03 2.53573447e-03 2.18381151e-03 1.99270063e-03\n",
            " 1.66607389e-03 1.52645712e-03 1.37378854e-03 1.16145824e-03\n",
            " 1.03606736e-03 1.00945344e-03 9.30525671e-04 8.42394004e-04\n",
            " 7.49076729e-04 7.07582757e-04 6.73684077e-04 6.40692670e-04\n",
            " 5.81144332e-04 5.60802923e-04 4.80909352e-04 4.60638213e-04\n",
            " 4.12214541e-04 3.69460190e-04 3.57677240e-04 3.42529992e-04\n",
            " 3.34383881e-04 3.03002493e-04 2.80973996e-04 2.57857295e-04\n",
            " 2.44375934e-04 2.35373603e-04 2.29754227e-04 1.98144143e-04\n",
            " 1.80874051e-04 1.66717653e-04 1.61883146e-04 1.46850597e-04\n",
            " 1.40564795e-04 1.36693773e-04 1.33177088e-04 1.20159441e-04\n",
            " 1.11472158e-04 1.02097555e-04 9.25740642e-05 8.96837373e-05\n",
            " 7.82369579e-05 7.53957930e-05 6.92523191e-05 6.57302890e-05\n",
            " 6.02656350e-05 5.34181691e-05 4.87951998e-05 4.67010218e-05\n",
            " 4.42045185e-05 3.95417323e-05 3.59604259e-05 3.05539951e-05\n",
            " 2.78828309e-05 2.59687324e-05 2.50930995e-05 2.19873349e-05\n",
            " 2.04680895e-05 1.86309089e-05 1.46882907e-05 1.30755348e-05\n",
            " 1.14780060e-05 1.02880523e-05 9.36274011e-06 8.45413396e-06\n",
            " 6.88827607e-06 6.80096410e-06 5.53312844e-06 3.80298048e-06\n",
            " 2.39909303e-06 1.94209835e-06 1.12059946e-06 5.26146880e-07\n",
            " 9.37910550e-08 5.40975766e-09 1.96404708e-09 1.23237274e-32]\n",
            "Cumulative explained variances:\n",
            "# PCs = 1: 0.55\n",
            "# PCs = 2: 0.66\n",
            "# PCs = 3: 0.73\n",
            "# PCs = 4: 0.8\n",
            "# PCs = 5: 0.84\n",
            "# PCs = 6: 0.88\n",
            "# PCs = 7: 0.9\n",
            "# PCs = 8: 0.93\n",
            "# PCs = 9: 0.94\n",
            "# PCs = 10: 0.95\n",
            "# PCs = 11: 0.96\n",
            "# PCs = 12: 0.97\n",
            "# PCs = 13: 0.97\n",
            "# PCs = 14: 0.98\n",
            "# PCs = 15: 0.98\n",
            "# PCs = 16: 0.98\n",
            "# PCs = 17: 0.98\n",
            "# PCs = 18: 0.99\n",
            "# PCs = 19: 0.99\n",
            "# PCs = 20: 0.99\n",
            "# PCs = 21: 0.99\n",
            "# PCs = 22: 0.99\n",
            "# PCs = 23: 0.99\n",
            "# PCs = 24: 0.99\n",
            "# PCs = 25: 0.99\n",
            "# PCs = 26: 0.99\n",
            "# PCs = 27: 0.99\n",
            "# PCs = 28: 0.99\n",
            "# PCs = 29: 1.0\n",
            "# PCs = 30: 1.0\n",
            "# PCs = 31: 1.0\n",
            "# PCs = 32: 1.0\n",
            "# PCs = 33: 1.0\n",
            "# PCs = 34: 1.0\n",
            "# PCs = 35: 1.0\n",
            "# PCs = 36: 1.0\n",
            "# PCs = 37: 1.0\n",
            "# PCs = 38: 1.0\n",
            "# PCs = 39: 1.0\n",
            "# PCs = 40: 1.0\n",
            "# PCs = 41: 1.0\n",
            "# PCs = 42: 1.0\n",
            "# PCs = 43: 1.0\n",
            "# PCs = 44: 1.0\n",
            "# PCs = 45: 1.0\n",
            "# PCs = 46: 1.0\n",
            "# PCs = 47: 1.0\n",
            "# PCs = 48: 1.0\n",
            "# PCs = 49: 1.0\n",
            "# PCs = 50: 1.0\n",
            "# PCs = 51: 1.0\n",
            "# PCs = 52: 1.0\n",
            "# PCs = 53: 1.0\n",
            "# PCs = 54: 1.0\n",
            "# PCs = 55: 1.0\n",
            "# PCs = 56: 1.0\n",
            "# PCs = 57: 1.0\n",
            "# PCs = 58: 1.0\n",
            "# PCs = 59: 1.0\n",
            "# PCs = 60: 1.0\n",
            "# PCs = 61: 1.0\n",
            "# PCs = 62: 1.0\n",
            "# PCs = 63: 1.0\n",
            "# PCs = 64: 1.0\n",
            "# PCs = 65: 1.0\n",
            "# PCs = 66: 1.0\n",
            "# PCs = 67: 1.0\n",
            "# PCs = 68: 1.0\n",
            "# PCs = 69: 1.0\n",
            "# PCs = 70: 1.0\n",
            "# PCs = 71: 1.0\n",
            "# PCs = 72: 1.0\n",
            "# PCs = 73: 1.0\n",
            "# PCs = 74: 1.0\n",
            "# PCs = 75: 1.0\n",
            "# PCs = 76: 1.0\n",
            "# PCs = 77: 1.0\n",
            "# PCs = 78: 1.0\n",
            "# PCs = 79: 1.0\n",
            "# PCs = 80: 1.0\n",
            "# PCs = 81: 1.0\n",
            "# PCs = 82: 1.0\n",
            "# PCs = 83: 1.0\n",
            "# PCs = 84: 1.0\n",
            "# PCs = 85: 1.0\n",
            "# PCs = 86: 1.0\n",
            "# PCs = 87: 1.0\n",
            "# PCs = 88: 1.0\n",
            "# PCs = 89: 1.0\n",
            "# PCs = 90: 1.0\n",
            "# PCs = 91: 1.0\n",
            "# PCs = 92: 1.0\n",
            "# PCs = 93: 1.0\n",
            "# PCs = 94: 1.0\n",
            "# PCs = 95: 1.0\n",
            "# PCs = 96: 1.0\n",
            "# PCs = 97: 1.0\n",
            "# PCs = 98: 1.0\n",
            "# PCs = 99: 1.0\n",
            "# PCs = 100: 1.0\n",
            "# PCs = 101: 1.0\n",
            "# PCs = 102: 1.0\n",
            "# PCs = 103: 1.0\n",
            "# PCs = 104: 1.0\n"
          ]
        }
      ]
    },
    {
      "cell_type": "code",
      "metadata": {
        "colab": {
          "base_uri": "https://localhost:8080/"
        },
        "id": "YPvkhXKvXOyO",
        "outputId": "32275981-2586-41af-9ea8-e25d1c8e2c2e"
      },
      "source": [
        "# Check the above result and determine the number of principal components\n",
        "from sklearn.decomposition import PCA\n",
        "pca = PCA(n_components = 8)\n",
        "pca.fit(X)\n",
        "\n",
        "# Make a dataset with new features\n",
        "X2_train = pca.transform(X_train)\n",
        "X2_test = pca.transform(X_test)\n",
        "Y2_train, Y2_test = Y_train, Y_test\n",
        "X2_train.shape, X2_test.shape, Y2_train.shape, Y2_test.shape"
      ],
      "execution_count": null,
      "outputs": [
        {
          "output_type": "execute_result",
          "data": {
            "text/plain": [
              "((354, 8), (152, 8), (354,), (152,))"
            ]
          },
          "metadata": {},
          "execution_count": 17
        }
      ]
    },
    {
      "cell_type": "code",
      "metadata": {
        "colab": {
          "base_uri": "https://localhost:8080/"
        },
        "id": "P-A_sFjuXw7X",
        "outputId": "5f855802-5e4c-4c93-bdfb-d4ebf53f3f49"
      },
      "source": [
        "# Init\n",
        "ridge_model_rf01 = RidgeRegression( regularization_factor = 0.1 )\n",
        "ridge_model_rf0 = RidgeRegression( regularization_factor = 0 ) # Linear model\n",
        "\n",
        "# Train\n",
        "epochs = 2000\n",
        "learning_rate = 0.01\n",
        "ridge_model_rf01.fit( X2_train, Y2_train, epochs, learning_rate, batch_size )\n",
        "ridge_model_rf0.fit( X2_train, Y2_train, epochs, learning_rate, batch_size )\n",
        "\n",
        "# Evaluate\n",
        "print(\"Ridge : \", ridge_model_rf01.eval( X2_test, Y2_test ))\n",
        "print(\"Linear : \", ridge_model_rf0.eval( X2_test, Y2_test ))"
      ],
      "execution_count": null,
      "outputs": [
        {
          "output_type": "stream",
          "name": "stdout",
          "text": [
            "Ridge :  0.22015771241141036\n",
            "Linear :  0.18687985377989405\n"
          ]
        }
      ]
    }
  ]
}