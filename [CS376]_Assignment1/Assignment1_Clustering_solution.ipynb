{
  "nbformat": 4,
  "nbformat_minor": 5,
  "metadata": {
    "kernelspec": {
      "name": "python3",
      "display_name": "Python 3"
    },
    "colab": {
      "name": "Assignment1_revised_answer.ipynb",
      "provenance": [],
      "collapsed_sections": []
    },
    "language_info": {
      "name": "python"
    }
  },
  "cells": [
    {
      "cell_type": "markdown",
      "metadata": {
        "id": "a22dbb27"
      },
      "source": [
        "In the second part of this assignment, we will implement K-means Clustering and kernel K-means Clustering."
      ],
      "id": "a22dbb27"
    },
    {
      "cell_type": "code",
      "metadata": {
        "id": "ce48dff7"
      },
      "source": [
        "import numpy as np\n",
        "from sklearn.decomposition import PCA\n",
        "import matplotlib.pyplot as plt\n",
        "from sklearn import metrics"
      ],
      "id": "ce48dff7",
      "execution_count": null,
      "outputs": []
    },
    {
      "cell_type": "markdown",
      "metadata": {
        "id": "Hn5FASCJrL-f"
      },
      "source": [
        "**K-means Clustering Implementation**\n",
        "\n",
        "Follow the comments! They'll give you instructions on what to code."
      ],
      "id": "Hn5FASCJrL-f"
    },
    {
      "cell_type": "code",
      "metadata": {
        "id": "68430d22"
      },
      "source": [
        "def kmeans(data, k):\n",
        "    num_data = np.shape(data)[0]\n",
        "    # First, randomly pick k data points for the centers of the initial clusters. Maybe you should use the np.random.choice() function.\n",
        "    # Afterwards, initialize the clusters.\n",
        "    cluster_mean = data[np.random.choice(range(num_data), k)]\n",
        "    mean_dist_mat = np.linalg.norm(np.expand_dims(data, axis = 0) - np.expand_dims(cluster_mean, axis = 1), axis = 2)\n",
        "    cluster_allocation = np.argmin(mean_dist_mat, axis = 0)\n",
        "\n",
        "    # Update the clusters until convergence.\n",
        "    updated = True\n",
        "    init_num = 0\n",
        "    while updated:\n",
        "        updated = False\n",
        "\n",
        "        # Calculate the cluster means.\n",
        "        cluster_mean = np.array([np.sum(data[cluster_allocation==i],axis=0)/np.sum(cluster_allocation==i) for i in range(k)])\n",
        "\n",
        "        # Find out which new cluster each data point belongs to\n",
        "        mean_dist_mat = np.linalg.norm(np.expand_dims(data, axis = 0) - np.expand_dims(cluster_mean, axis = 1), axis = 2)\n",
        "        new_cluster_allocation = np.argmin(mean_dist_mat, axis = 0)\n",
        "\n",
        "        # Update the cluster allocation. If nothing changes, exit the loop and return the converged result.\n",
        "        if not np.array_equal(cluster_allocation, new_cluster_allocation):\n",
        "            updated = True\n",
        "            cluster_allocation = new_cluster_allocation\n",
        "        else:\n",
        "            loss = np.sum(np.min(mean_dist_mat, axis = 0))\n",
        "    return cluster_allocation, loss"
      ],
      "id": "68430d22",
      "execution_count": null,
      "outputs": []
    },
    {
      "cell_type": "markdown",
      "metadata": {
        "id": "hZimIlzPxNg2"
      },
      "source": [
        "**Kernel K-means Clustering Implementation**\n",
        "\n",
        "We will now implement Kernel K-means Clustering using a Gaussian kernel."
      ],
      "id": "hZimIlzPxNg2"
    },
    {
      "cell_type": "code",
      "metadata": {
        "id": "YhF7ECnGqkmH"
      },
      "source": [
        "# This function should return the cluster labels and the value of the objective function for kernel k-means.\n",
        "def kernel_kmeans(data, k, s, kernel = 'gaussian'):\n",
        "    # The variable s refers to the value of sigma in the Gaussian kernel.\n",
        "    num_data = np.shape(data)[0]\n",
        "    # First, randomly pick k data points for the centers of the initial clusters. Maybe you should use the np.random.choice() function.\n",
        "    # Afterwards, initialize the clusters.\n",
        "    cluster_mean = data[np.random.choice(range(num_data), k)]\n",
        "    mean_dist_mat = np.linalg.norm(np.expand_dims(data, axis = 0) - np.expand_dims(cluster_mean, axis = 1), axis = 2)\n",
        "    cluster_allocation = np.argmin(mean_dist_mat, axis = 0)\n",
        "    # Pre-calculate kernel values and save it in a matrix.\n",
        "    # You can use sklearn.metrics.pairwise_distances(data) to get the pairwise distance of vectors in the data.\n",
        "    # Gaussian kernel\n",
        "    if kernel == 'gaussian':\n",
        "        pre_cal = np.exp(-np.square(metrics.pairwise_distances(data))/(2*(s**2)))\n",
        "    else:\n",
        "        print(\"no such kernel\")\n",
        "\n",
        "    # Update the clusters until convergence.\n",
        "    updated = True\n",
        "    init_num = 0\n",
        "    while updated:\n",
        "        updated = False\n",
        "        \n",
        "        # Find out which new cluster each data point belongs to\n",
        "        mean_dist_mat = [1-2*np.sum(pre_cal[:,cluster_allocation==idx], axis = 1)/np.sum(cluster_allocation==idx)\n",
        "                         +np.sum(pre_cal[cluster_allocation==idx][:, cluster_allocation==idx])/(np.sum(cluster_allocation==idx)**2)\n",
        "                         for idx in range(k)]\n",
        "        new_cluster_allocation = np.argmin(mean_dist_mat, axis = 0)\n",
        "\n",
        "        # Update cluster allocation. If nothing changes, exit the loop and return the converged result.\n",
        "        if not np.array_equal(cluster_allocation, new_cluster_allocation):\n",
        "            updated = True\n",
        "            cluster_allocation = new_cluster_allocation\n",
        "        else:\n",
        "            loss = np.sum(np.min(mean_dist_mat, axis = 0))\n",
        "    return cluster_allocation, loss\n",
        "        "
      ],
      "id": "YhF7ECnGqkmH",
      "execution_count": null,
      "outputs": []
    },
    {
      "cell_type": "markdown",
      "metadata": {
        "id": "vskWAl3YWgRm"
      },
      "source": [
        "Now, implementation is done.\n",
        "\n",
        "Let's check the model's performance with an example we've seen in class.\n"
      ],
      "id": "vskWAl3YWgRm"
    },
    {
      "cell_type": "code",
      "metadata": {
        "colab": {
          "base_uri": "https://localhost:8080/",
          "height": 265
        },
        "id": "6v5Beqdpx_Z_",
        "outputId": "62e026b3-a342-42fa-b9d0-f5fd6cd3a6cc"
      },
      "source": [
        "from sklearn.datasets import make_circles\n",
        "X, y = make_circles(n_samples=1000, noise = 0.1, factor = 0.3, random_state = 10)\n",
        "plt.figure()\n",
        "plt.scatter(X[y == 0, 0], X[y == 0, 1], color='red') \n",
        "plt.scatter(X[y == 1, 0], X[y == 1, 1], color='blue') \n",
        "plt.show()"
      ],
      "id": "6v5Beqdpx_Z_",
      "execution_count": null,
      "outputs": [
        {
          "output_type": "display_data",
          "data": {
            "image/png": "[encoded data removed]",
            "text/plain": [
              "<Figure size 432x288 with 1 Axes>"
            ]
          },
          "metadata": {
            "needs_background": "light"
          }
        }
      ]
    },
    {
      "cell_type": "code",
      "metadata": {
        "colab": {
          "base_uri": "https://localhost:8080/"
        },
        "id": "Ww8phoa9ytfB",
        "outputId": "28fd7f49-3726-4b10-83c7-7cac8368d258"
      },
      "source": [
        "# Run k-means clustering. This cell should print the NMI score of your model.\n",
        "np.random.seed(1)\n",
        "loss = np.inf\n",
        "for _ in range(10):\n",
        "    kmeans_result,loss_tmp = kmeans(X, k=2)\n",
        "    if loss > loss_tmp:\n",
        "        loss = loss_tmp\n",
        "        best_kmeans_result = kmeans_result\n",
        "        score = metrics.normalized_mutual_info_score(y, kmeans_result)\n",
        "print(score)"
      ],
      "id": "Ww8phoa9ytfB",
      "execution_count": null,
      "outputs": [
        {
          "output_type": "stream",
          "name": "stdout",
          "text": [
            "0.0004879010473852295\n"
          ]
        }
      ]
    },
    {
      "cell_type": "code",
      "metadata": {
        "colab": {
          "base_uri": "https://localhost:8080/",
          "height": 265
        },
        "id": "31I-8JTgO5sH",
        "outputId": "56009910-e170-4afb-b90b-28bf6e8ca820"
      },
      "source": [
        "# Visualize the result of the k-means clustering.\n",
        "plt.figure()\n",
        "plt.scatter(X[kmeans_result == 0,0], X[kmeans_result == 0,1], color = 'red')\n",
        "plt.scatter(X[kmeans_result == 1,0], X[kmeans_result == 1,1], color = 'blue')\n",
        "plt.show()"
      ],
      "id": "31I-8JTgO5sH",
      "execution_count": null,
      "outputs": [
        {
          "output_type": "display_data",
          "data": {
            "image/png": "[encoded data removed]",
            "text/plain": [
              "<Figure size 432x288 with 1 Axes>"
            ]
          },
          "metadata": {
            "needs_background": "light"
          }
        }
      ]
    },
    {
      "cell_type": "code",
      "metadata": {
        "colab": {
          "base_uri": "https://localhost:8080/"
        },
        "id": "jMJ5_cwJy2zK",
        "outputId": "1f9c0edf-e6a2-4bb8-9597-c2c3a75f3ae1"
      },
      "source": [
        "# Run k-means clustering. This cell should print the NMI score of your model.\n",
        "# Feel free to experiment with hyperparameter s (Use 0.5 as default)\n",
        "np.random.seed(1)\n",
        "loss = np.inf\n",
        "for _ in range(10):\n",
        "    kkmeans_result,loss_tmp = kernel_kmeans(X, k=2, s = 0.5)\n",
        "    if loss > loss_tmp:\n",
        "        loss = loss_tmp\n",
        "        best_kkmeans_result = kkmeans_result\n",
        "        score = metrics.normalized_mutual_info_score(y, kkmeans_result)\n",
        "print(score)"
      ],
      "id": "jMJ5_cwJy2zK",
      "execution_count": null,
      "outputs": [
        {
          "output_type": "stream",
          "name": "stdout",
          "text": [
            "1.0\n"
          ]
        }
      ]
    },
    {
      "cell_type": "code",
      "metadata": {
        "colab": {
          "base_uri": "https://localhost:8080/",
          "height": 265
        },
        "id": "KIknFVqwPTas",
        "outputId": "356718fb-7acd-4f8b-99f8-15b571ca3cb9"
      },
      "source": [
        "# Visualize the result of the kernel k-means clustering.\n",
        "plt.figure()\n",
        "plt.scatter(X[best_kkmeans_result == 0,0], X[best_kkmeans_result == 0,1], color = 'red')\n",
        "plt.scatter(X[best_kkmeans_result == 1,0], X[best_kkmeans_result == 1,1], color = 'blue')\n",
        "plt.show()"
      ],
      "id": "KIknFVqwPTas",
      "execution_count": null,
      "outputs": [
        {
          "output_type": "display_data",
          "data": {
            "image/png": "[encoded data removed]",
            "text/plain": [
              "<Figure size 432x288 with 1 Axes>"
            ]
          },
          "metadata": {
            "needs_background": "light"
          }
        }
      ]
    }
  ]
}